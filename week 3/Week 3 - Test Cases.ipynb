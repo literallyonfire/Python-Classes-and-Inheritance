{
 "cells": [
  {
   "cell_type": "markdown",
   "metadata": {},
   "source": [
    "1.The function mySum is supposed to return the sum of a list of numbers (and 0 if that list is empty), but it has one or more errors in it. Use this space to write test cases to determine what errors there are. You will be using this information to answer the next set of multiple choice questions."
   ]
  },
  {
   "cell_type": "code",
   "execution_count": null,
   "metadata": {},
   "outputs": [],
   "source": [
    "myList = [1,2,3,4]\n",
    "my_lis = []\n",
    "my_one = [1]\n",
    "\n",
    "assert mySum(my_one) == 1\n",
    "assert mySum(myList) == 10\n",
    "assert mySum(my_lis) == 0\n",
    "\n",
    "# Which of the following cases fail for the mySum function?\n",
    "# A. an empty list\n",
    "# C. a list with more than one item\n",
    "\n",
    "# Are there any other cases, that we can determine based on the current structure of the function, that also fail for the mySum function?\n",
    "# B. No"
   ]
  },
  {
   "cell_type": "markdown",
   "metadata": {},
   "source": [
    "**2.The class Student is supposed to accept two arguments in its constructor:**\n",
    "1. A name string\n",
    "2. An optional integer representing the number of years the student has been at Michigan (default:1)\n",
    "\n",
    "**Every student has three instance variables:**\n",
    "1. self.name (set to the name provided)\n",
    "2. self.years_UM (set to the number of years the student has been at Michigan)\n",
    "3. self.knowledge (initialized to 0)\n",
    "\n",
    "**There are three methods:**\n",
    "1. .study() should increase self.knowledge by 1 and return None\n",
    "2. .getKnowledge() should return the value of self.knowledge\n",
    "3. .year_at_umich() should return the value of self.years_UM\n",
    "\n",
    "There are one or more errors in the class. Use this space to write test cases to determine what errors there are. You will be using this information to answer the next set of multiple choice questions."
   ]
  },
  {
   "cell_type": "code",
   "execution_count": null,
   "metadata": {},
   "outputs": [],
   "source": [
    "s = Student('Greg', 3)\n",
    "assert s.study() == None\n",
    "assert s.years_UM == 3\n",
    "assert s.name == 'Greg'\n",
    "assert s.knowledge == 0\n",
    "assert s.year_at_umich() == 3\n",
    "\n",
    "s1 = Student('Greg2')\n",
    "assert s1.knowledge == 0\n",
    "s1.study()\n",
    "assert s1.knowledge == 1\n",
    "\n",
    "# Which of the following cases fail for the Student class?\n",
    "# C. the attributes/instance variables are not correctly assigned in the constructor\n",
    "# D. the method study does not increase self.knowledge\n",
    "\n",
    "# Are there any other cases, that we can determine based on the current structure of the class, that also fail for the Student class?\n",
    "# A. Yes"
   ]
  }
 ],
 "metadata": {
  "kernelspec": {
   "display_name": "Python 3",
   "language": "python",
   "name": "python3"
  },
  "language_info": {
   "codemirror_mode": {
    "name": "ipython",
    "version": 3
   },
   "file_extension": ".py",
   "mimetype": "text/x-python",
   "name": "python",
   "nbconvert_exporter": "python",
   "pygments_lexer": "ipython3",
   "version": "3.7.6"
  }
 },
 "nbformat": 4,
 "nbformat_minor": 4
}
